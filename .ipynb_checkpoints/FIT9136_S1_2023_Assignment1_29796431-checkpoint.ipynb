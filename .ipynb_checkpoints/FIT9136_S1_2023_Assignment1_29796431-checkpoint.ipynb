{
 "cells": [
  {
   "cell_type": "markdown",
   "id": "256b5280",
   "metadata": {},
   "source": [
    "# Task 1. Game menu function"
   ]
  },
  {
   "cell_type": "code",
   "execution_count": null,
   "id": "7e92a3ce",
   "metadata": {},
   "outputs": [],
   "source": [
    "print(\"Welcome to the Harry Potter game! You have the following options: \") \n",
    "print(\"1. start game\")\n",
    "print(\"2. pick a card\") \n",
    "print(\"3. shuffle deck\") \n",
    "print(\"4. show my cards\")\n",
    "print(\"5. check win or lose\") \n",
    "print(\"6. exit\")\n",
    "\n",
    "input_selection = input(\"Please enter your selection: \")\n",
    "if input_selection == \"1\":\n",
    "    print(\"Starting game...\")\n",
    "elif input_selection == \"2\":\n",
    "    print(\"Picking a card...\")\n",
    "elif input_selection == \"3\":\n",
    "    print(\"Shuffling deck...\")\n",
    "elif input_selection == \"4\":\n",
    "    print(\"Showing your cards...\")\n",
    "elif input_selection == \"5\":\n",
    "    print(\"Checking win or lose...\")\n",
    "elif input_selection == \"6\":\n",
    "    print(\"Exiting...\")\n",
    "else:\n",
    "    print(\"Invalid input. Please enter a valid selection.\")"
   ]
  },
  {
   "cell_type": "markdown",
   "id": "ec6c0d3e",
   "metadata": {},
   "source": [
    "# Task 2. Create Deck function"
   ]
  },
  {
   "cell_type": "code",
   "execution_count": null,
   "id": "613053a5",
   "metadata": {},
   "outputs": [],
   "source": []
  },
  {
   "cell_type": "markdown",
   "id": "77ce0085",
   "metadata": {},
   "source": [
    "# Task 3. Shuffle Deck function"
   ]
  },
  {
   "cell_type": "code",
   "execution_count": null,
   "id": "066e304c",
   "metadata": {},
   "outputs": [],
   "source": []
  },
  {
   "cell_type": "markdown",
   "id": "1ba567ed",
   "metadata": {},
   "source": [
    "# Task 4. Pick Card function"
   ]
  },
  {
   "cell_type": "code",
   "execution_count": null,
   "id": "e95cb03c",
   "metadata": {},
   "outputs": [],
   "source": []
  },
  {
   "cell_type": "markdown",
   "id": "346092bb",
   "metadata": {},
   "source": [
    "# Task 5. Show Cards function\n"
   ]
  },
  {
   "cell_type": "code",
   "execution_count": null,
   "id": "acb0fc77",
   "metadata": {},
   "outputs": [],
   "source": []
  },
  {
   "cell_type": "markdown",
   "id": "3b2804c1",
   "metadata": {},
   "source": [
    "# Task 6. Check Result function\n"
   ]
  },
  {
   "cell_type": "code",
   "execution_count": null,
   "id": "cdc3f901",
   "metadata": {},
   "outputs": [],
   "source": []
  },
  {
   "cell_type": "markdown",
   "id": "5fa34e7c",
   "metadata": {},
   "source": [
    "# Task 7. Play Game function"
   ]
  },
  {
   "cell_type": "code",
   "execution_count": null,
   "id": "a6270cb0",
   "metadata": {},
   "outputs": [],
   "source": []
  }
 ],
 "metadata": {
  "kernelspec": {
   "display_name": "Python 3 (ipykernel)",
   "language": "python",
   "name": "python3"
  },
  "language_info": {
   "codemirror_mode": {
    "name": "ipython",
    "version": 3
   },
   "file_extension": ".py",
   "mimetype": "text/x-python",
   "name": "python",
   "nbconvert_exporter": "python",
   "pygments_lexer": "ipython3",
   "version": "3.9.13"
  }
 },
 "nbformat": 4,
 "nbformat_minor": 5
}
