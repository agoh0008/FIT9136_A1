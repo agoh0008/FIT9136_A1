{
 "cells": [
  {
   "cell_type": "markdown",
   "id": "256b5280",
   "metadata": {},
   "source": [
    "# Task 1. Game menu function"
   ]
  },
  {
   "cell_type": "code",
   "execution_count": 18,
   "id": "7e92a3ce",
   "metadata": {},
   "outputs": [],
   "source": [
    "def game_menu():\n",
    "    print(\"Welcome to the Monash card game! Enter a number from the following game options below: \") \n",
    "    print(\"1. start game\")\n",
    "    print(\"2. pick a card\") \n",
    "    print(\"3. shuffle deck\") \n",
    "    print(\"4. show my cards\")\n",
    "    print(\"5. check win or lose\") \n",
    "    print(\"6. exit\")\n",
    "\n",
    "    print(\"\\nYou may also choose one suit type from the following below: \")\n",
    "    print(\"Deck 1 = ['♥', '♦', '♣', '♠']\")\n",
    "    print(\"Deck 2 = ['😃', '😈', '😵', '🤢', '😨']\")\n",
    "    print(\"Deck 3 = ['🤡', '👹', '👺', '👻', '👽', '👾', '🤖']\")\n",
    "\n",
    "    print(\"\\nIf you are starting a game for the first time, you need to also select a deck. The first number would be your game option, and your second number would be your selected deck. For instance, '1 2' means that you are starting a game using Deck 2.\")\n"
   ]
  },
  {
   "cell_type": "code",
   "execution_count": 2,
   "id": "c4c8e8db",
   "metadata": {},
   "outputs": [
    {
     "name": "stdout",
     "output_type": "stream",
     "text": [
      "Welcome to the Monash card game! Enter a number from the following game options below: \n",
      "1. start game\n",
      "2. pick a card\n",
      "3. shuffle deck\n",
      "4. show my cards\n",
      "5. check win or lose\n",
      "6. exit\n",
      "\n",
      "You may also choose one suit type from the following below: \n",
      "Deck 1 = ['♥', '♦', '♣', '♠']\n",
      "Deck 2 = ['😃', '😈', '😵', '🤢', '😨']\n",
      "Deck 3 = ['🤡', '👹', '👺', '👻', '👽', '👾', '🤖']\n",
      "\n",
      "If you are starting a game for the first time, you need to also select a deck. The first number would be your game option, and your second number would be your selected deck. For instance, '1 2' means that you are starting a game using Deck 2.\n"
     ]
    }
   ],
   "source": [
    "game_menu()"
   ]
  },
  {
   "cell_type": "markdown",
   "id": "ec6c0d3e",
   "metadata": {},
   "source": [
    "# Task 2. Create Deck function"
   ]
  },
  {
   "cell_type": "code",
   "execution_count": 3,
   "id": "273a9fb4",
   "metadata": {},
   "outputs": [],
   "source": [
    "def create_deck(deck, suits, values):\n",
    "    \n",
    "    deck = []\n",
    "    for suit_group in suits:\n",
    "        new_deck = []\n",
    "        for suit_type in suit_group:\n",
    "            for value in values:\n",
    "                new_deck.append(\"{} of {}\".format(value, suit_type))\n",
    "        deck.extend(new_deck)\n",
    "    \n",
    "    print(f\"\\nChosen deck: {deck}\")"
   ]
  },
  {
   "cell_type": "code",
   "execution_count": 4,
   "id": "ce9eab81",
   "metadata": {},
   "outputs": [
    {
     "name": "stdout",
     "output_type": "stream",
     "text": [
      "\n",
      "Chosen deck: ['2 of ♥', '3 of ♥', '4 of ♥', '5 of ♥', '6 of ♥', '7 of ♥', '8 of ♥', '9 of ♥', '10 of ♥', 'J of ♥', 'Q of ♥', 'K of ♥', 'A of ♥', '2 of ♦', '3 of ♦', '4 of ♦', '5 of ♦', '6 of ♦', '7 of ♦', '8 of ♦', '9 of ♦', '10 of ♦', 'J of ♦', 'Q of ♦', 'K of ♦', 'A of ♦', '2 of ♣', '3 of ♣', '4 of ♣', '5 of ♣', '6 of ♣', '7 of ♣', '8 of ♣', '9 of ♣', '10 of ♣', 'J of ♣', 'Q of ♣', 'K of ♣', 'A of ♣', '2 of ♠', '3 of ♠', '4 of ♠', '5 of ♠', '6 of ♠', '7 of ♠', '8 of ♠', '9 of ♠', '10 of ♠', 'J of ♠', 'Q of ♠', 'K of ♠', 'A of ♠']\n",
      "\n",
      "Chosen deck: ['2 of 😃', '3 of 😃', '4 of 😃', '5 of 😃', '6 of 😃', '7 of 😃', '8 of 😃', '9 of 😃', '10 of 😃', 'J of 😃', 'Q of 😃', 'K of 😃', 'A of 😃', '2 of 😈', '3 of 😈', '4 of 😈', '5 of 😈', '6 of 😈', '7 of 😈', '8 of 😈', '9 of 😈', '10 of 😈', 'J of 😈', 'Q of 😈', 'K of 😈', 'A of 😈', '2 of 😵', '3 of 😵', '4 of 😵', '5 of 😵', '6 of 😵', '7 of 😵', '8 of 😵', '9 of 😵', '10 of 😵', 'J of 😵', 'Q of 😵', 'K of 😵', 'A of 😵', '2 of 🤢', '3 of 🤢', '4 of 🤢', '5 of 🤢', '6 of 🤢', '7 of 🤢', '8 of 🤢', '9 of 🤢', '10 of 🤢', 'J of 🤢', 'Q of 🤢', 'K of 🤢', 'A of 🤢', '2 of 😨', '3 of 😨', '4 of 😨', '5 of 😨', '6 of 😨', '7 of 😨', '8 of 😨', '9 of 😨', '10 of 😨', 'J of 😨', 'Q of 😨', 'K of 😨', 'A of 😨']\n",
      "\n",
      "Chosen deck: ['2 of 🤡', '3 of 🤡', '4 of 🤡', '5 of 🤡', '6 of 🤡', '7 of 🤡', '8 of 🤡', '9 of 🤡', '10 of 🤡', 'J of 🤡', 'Q of 🤡', 'K of 🤡', 'A of 🤡', '2 of 👹', '3 of 👹', '4 of 👹', '5 of 👹', '6 of 👹', '7 of 👹', '8 of 👹', '9 of 👹', '10 of 👹', 'J of 👹', 'Q of 👹', 'K of 👹', 'A of 👹', '2 of 👺', '3 of 👺', '4 of 👺', '5 of 👺', '6 of 👺', '7 of 👺', '8 of 👺', '9 of 👺', '10 of 👺', 'J of 👺', 'Q of 👺', 'K of 👺', 'A of 👺', '2 of 👻', '3 of 👻', '4 of 👻', '5 of 👻', '6 of 👻', '7 of 👻', '8 of 👻', '9 of 👻', '10 of 👻', 'J of 👻', 'Q of 👻', 'K of 👻', 'A of 👻', '2 of 👽', '3 of 👽', '4 of 👽', '5 of 👽', '6 of 👽', '7 of 👽', '8 of 👽', '9 of 👽', '10 of 👽', 'J of 👽', 'Q of 👽', 'K of 👽', 'A of 👽', '2 of 👾', '3 of 👾', '4 of 👾', '5 of 👾', '6 of 👾', '7 of 👾', '8 of 👾', '9 of 👾', '10 of 👾', 'J of 👾', 'Q of 👾', 'K of 👾', 'A of 👾', '2 of 🤖', '3 of 🤖', '4 of 🤖', '5 of 🤖', '6 of 🤖', '7 of 🤖', '8 of 🤖', '9 of 🤖', '10 of 🤖', 'J of 🤖', 'Q of 🤖', 'K of 🤖', 'A of 🤖']\n"
     ]
    }
   ],
   "source": [
    "# Testing Create Deck function: \n",
    "\n",
    "suits1 = ['♥', '♦', '♣', '♠']\n",
    "suits2 = ['😃', '😈', '😵', '🤢', '😨']\n",
    "suits3 = ['🤡', '👹', '👺', '👻', '👽', '👾', '🤖']\n",
    "suits = [suits1, suits2, suits3]\n",
    "\n",
    "values = [\"2\", \"3\", \"4\", \"5\", \"6\", \"7\", \"8\", \"9\", \"10\", \"J\", \"Q\", \"K\", \"A\"]\n",
    "\n",
    "deck = []\n",
    "\n",
    "create_deck(deck, [suits1], values)\n",
    "\n",
    "create_deck(deck, [suits2], values)\n",
    "\n",
    "create_deck(deck, [suits3], values)\n"
   ]
  },
  {
   "cell_type": "markdown",
   "id": "77ce0085",
   "metadata": {},
   "source": [
    "# Task 3. Shuffle Deck function"
   ]
  },
  {
   "cell_type": "code",
   "execution_count": 5,
   "id": "2c8275e2",
   "metadata": {},
   "outputs": [],
   "source": [
    "import random\n",
    "\n",
    "def shuffle_deck(deck, suits):\n",
    "    values = [\"2\", \"3\", \"4\", \"5\", \"6\", \"7\", \"8\", \"9\", \"10\", \"J\", \"Q\", \"K\", \"A\"]\n",
    "    \n",
    "    for suit in suits:\n",
    "        for value in values:\n",
    "            deck.append(\"{} of {}\".format(value, suit))\n",
    "    \n",
    "    n = len(deck)\n",
    "    \n",
    "    # Find the index of the specific cards in the unshuffled deck\n",
    "    first_suit = suits[0]\n",
    "    second_suit = suits[1]\n",
    "    last_suit = suits[-1]\n",
    "    \n",
    "    # Perform multiple shuffles until the specific cards are in their intended positions\n",
    "    while True:\n",
    "        random.shuffle(deck)\n",
    "        \n",
    "        # Find the index of the specific cards in the shuffled deck\n",
    "        first_card = deck.index(\"A of \" + first_suit)\n",
    "        middle_card = deck.index(\"Q of \" + second_suit)\n",
    "        last_card = deck.index(\"K of \" + last_suit)\n",
    "        \n",
    "        # Check if the specific cards are in their intended positions\n",
    "        if first_card == 0 and middle_card == (n-1)//2 and last_card == n-1:\n",
    "            break\n",
    "        \n",
    "    print(\"Deck shuffled: \", deck)"
   ]
  },
  {
   "cell_type": "code",
   "execution_count": 6,
   "id": "3d96101c",
   "metadata": {},
   "outputs": [
    {
     "name": "stdout",
     "output_type": "stream",
     "text": [
      "Deck shuffled:  ['A of 😃', '2 of 😈', '2 of 😨', 'Q of 😵', 'K of 😃', '8 of 🤢', 'A of 😈', '7 of 😈', '7 of 🤢', '5 of 😨', '4 of 😈', '10 of 🤢', '6 of 🤢', 'Q of 😨', '3 of 🤢', '4 of 😵', '7 of 😃', '9 of 😃', 'A of 😨', '2 of 😃', '5 of 😃', '9 of 🤢', '6 of 😃', 'Q of 😃', '3 of 😃', 'K of 🤢', '4 of 😨', '9 of 😵', '6 of 😨', '4 of 😃', '7 of 😨', 'J of 😈', 'Q of 😈', 'Q of 🤢', '8 of 😨', '6 of 😈', 'A of 😵', '8 of 😈', '3 of 😵', 'K of 😈', '9 of 😨', 'A of 🤢', '3 of 😨', '5 of 🤢', 'J of 😵', '6 of 😵', '2 of 🤢', 'K of 😵', '10 of 😵', 'J of 🤢', '9 of 😈', '7 of 😵', '3 of 😈', '10 of 😈', 'J of 😃', '5 of 😈', 'J of 😨', '8 of 😵', '4 of 🤢', '8 of 😃', '5 of 😵', '10 of 😨', '2 of 😵', '10 of 😃', 'K of 😨']\n"
     ]
    }
   ],
   "source": [
    "# Testing Shuffle Deck function: \n",
    "\n",
    "suits = ['😃', '😈', '😵', '🤢', '😨']\n",
    "deck = []\n",
    "\n",
    "shuffle_deck(deck, suits)"
   ]
  },
  {
   "cell_type": "markdown",
   "id": "1ba567ed",
   "metadata": {},
   "source": [
    "# Task 4. Pick Card function"
   ]
  },
  {
   "cell_type": "code",
   "execution_count": 7,
   "id": "e95cb03c",
   "metadata": {},
   "outputs": [],
   "source": [
    "import random\n",
    "\n",
    "def pick_card(deck):\n",
    "    selected_index = random.randint(0, len(deck)-1)\n",
    "    selected_card = deck[selected_index]\n",
    "    deck = deck[:selected_index] + deck[selected_index+1:]\n",
    "    return selected_card, deck      "
   ]
  },
  {
   "cell_type": "code",
   "execution_count": 8,
   "id": "345bd2e5",
   "metadata": {},
   "outputs": [
    {
     "name": "stdout",
     "output_type": "stream",
     "text": [
      "Picked card: Q of ♥\n",
      "Remaining deck: ['2 of ♥', '3 of ♥', '4 of ♥', '5 of ♥', '6 of ♥', '7 of ♥', '8 of ♥', '9 of ♥', '10 of ♥', 'J of ♥', 'K of ♥', 'A of ♥', '2 of ♦', '3 of ♦', '4 of ♦', '5 of ♦', '6 of ♦', '7 of ♦', '8 of ♦', '9 of ♦', '10 of ♦', 'J of ♦', 'Q of ♦', 'K of ♦', 'A of ♦', '2 of ♣', '3 of ♣', '4 of ♣', '5 of ♣', '6 of ♣', '7 of ♣', '8 of ♣', '9 of ♣', '10 of ♣', 'J of ♣', 'Q of ♣', 'K of ♣', 'A of ♣', '2 of ♠', '3 of ♠', '4 of ♠', '5 of ♠', '6 of ♠', '7 of ♠', '8 of ♠', '9 of ♠', '10 of ♠', 'J of ♠', 'Q of ♠', 'K of ♠', 'A of ♠']\n"
     ]
    }
   ],
   "source": [
    "# Testing Pick Card function: \n",
    "deck = ['2 of ♥', '3 of ♥', '4 of ♥', '5 of ♥', '6 of ♥', '7 of ♥', '8 of ♥', '9 of ♥', '10 of ♥', 'J of ♥', 'Q of ♥', 'K of ♥', 'A of ♥', '2 of ♦', '3 of ♦', '4 of ♦', '5 of ♦', '6 of ♦', '7 of ♦', '8 of ♦', '9 of ♦', '10 of ♦', 'J of ♦', 'Q of ♦', 'K of ♦', 'A of ♦', '2 of ♣', '3 of ♣', '4 of ♣', '5 of ♣', '6 of ♣', '7 of ♣', '8 of ♣', '9 of ♣', '10 of ♣', 'J of ♣', 'Q of ♣', 'K of ♣', 'A of ♣', '2 of ♠', '3 of ♠', '4 of ♠', '5 of ♠', '6 of ♠', '7 of ♠', '8 of ♠', '9 of ♠', '10 of ♠', 'J of ♠', 'Q of ♠', 'K of ♠', 'A of ♠']\n",
    "\n",
    "selected_card, deck = pick_card(deck)\n",
    "\n",
    "print(\"Picked card:\", selected_card)\n",
    "print(\"Remaining deck:\", deck)"
   ]
  },
  {
   "cell_type": "markdown",
   "id": "346092bb",
   "metadata": {},
   "source": [
    "# Task 5. Show Cards function\n"
   ]
  },
  {
   "cell_type": "code",
   "execution_count": 9,
   "id": "acb0fc77",
   "metadata": {},
   "outputs": [],
   "source": [
    "def show_cards(player_cards):\n",
    "    print(\"Your total cards are: \")\n",
    "    for card in player_cards:\n",
    "        print(card)"
   ]
  },
  {
   "cell_type": "code",
   "execution_count": 10,
   "id": "08ad5b6f",
   "metadata": {},
   "outputs": [
    {
     "name": "stdout",
     "output_type": "stream",
     "text": [
      "Your total cards are: \n",
      "2 of ♦\n",
      "A of ♥\n",
      "A of ♦\n",
      "A of ♣\n",
      "A of ♠\n",
      "6 of ♥\n",
      "4 of ♣\n",
      "10 of ♥\n",
      "3 of ♠\n"
     ]
    }
   ],
   "source": [
    "# Testing Show Cards function:\n",
    "\n",
    "player_cards = ['2 of ♦', 'A of ♥', 'A of ♦', 'A of ♣', 'A of ♠', '6 of ♥', '4 of ♣', '10 of ♥', '3 of ♠']\n",
    "\n",
    "show_cards(player_cards)"
   ]
  },
  {
   "cell_type": "markdown",
   "id": "3b2804c1",
   "metadata": {},
   "source": [
    "# Task 6. Check Result function\n"
   ]
  },
  {
   "cell_type": "code",
   "execution_count": 11,
   "id": "10b10fea",
   "metadata": {},
   "outputs": [],
   "source": [
    "def check_result(player_cards, robot_cards, suits):\n",
    "\n",
    "    player_wins = None\n",
    "    robot_wins = None\n",
    "    \n",
    "    # Rule 1\n",
    "    for value in ['2', '3', '4', '5', '6', '7', '8', '9', '10', 'J', 'Q', 'K', 'A']:\n",
    "        count_player = 0\n",
    "        count_robot = 0\n",
    "        for suit in suits:\n",
    "            if \"{} of {}\".format(value, suit) in player_cards:\n",
    "                count_player += 1\n",
    "            if \"{} of {}\".format(value, suit) in robot_cards:\n",
    "                count_robot += 1\n",
    "        if count_player == len(suits) and count_robot != len(suits):\n",
    "            player_wins = True\n",
    "            robot_wins = False\n",
    "        elif count_robot == len(suits) and count_player != len(suits):\n",
    "            player_wins = False\n",
    "            robot_wins = True \n",
    "    \n",
    "    # Rule 2\n",
    "    \n",
    "    if player_wins is None:\n",
    "        for value in ['2', '3', '4', '5', '6', '7', '8', '9', '10', 'J', 'Q', 'K', 'A']:\n",
    "            count_player = 0\n",
    "            count_robot = 0  \n",
    "            for suit in suits:\n",
    "                if \"{} of {}\".format(value, suit) in player_cards:\n",
    "                    count_player += 1\n",
    "                if \"{} of {}\".format(value, suit) in robot_cards:\n",
    "                    count_robot += 1\n",
    "\n",
    "            if count_player == (len(suits)-1) and count_robot != (len(suits)-1):\n",
    "                player_wins = True\n",
    "                robot_wins = False \n",
    "            elif count_robot == (len(suits)-1) and count_player != (len(suits)-1):\n",
    "                player_wins = False\n",
    "                robot_wins = True\n",
    "                \n",
    "                \n",
    "    # Rule 3\n",
    "    \n",
    "    if player_wins is None and robot_wins is None:\n",
    "        player_count = 0\n",
    "        robot_count = 0 \n",
    "\n",
    "        for card in player_cards:\n",
    "            if card.endswith(suits[1]):\n",
    "                player_count +=1 \n",
    "        for card in robot_cards:\n",
    "            if card.endswith(suits[1]):\n",
    "                robot_count +=1\n",
    "\n",
    "        if player_count > robot_count:\n",
    "            player_wins = True\n",
    "            robot_wins = False\n",
    "        elif robot_count > player_count:\n",
    "            player_wins = False\n",
    "            robot_wins = True\n",
    "    \n",
    "    # Rule 4 \n",
    "    \n",
    "    if player_wins is None and robot_wins is None:\n",
    "        card_values = {'A': 1, '2': 2, '3': 3, '4': 4, '5': 5, '6': 6, '7': 7, '8': 8, '9': 9, '10': 10, 'J': 11, 'Q': 12, 'K': 13}\n",
    "    \n",
    "        player_values = [card_values[card.split()[0]] for card in player_cards]\n",
    "        player_average = sum(player_values) / len(player_cards)\n",
    "\n",
    "        robot_values = [card_values[card.split()[0]] for card in robot_cards]\n",
    "        robot_average = sum(robot_values) / len(robot_cards)\n",
    "\n",
    "        if player_average > robot_average:\n",
    "            player_wins = True \n",
    "            robot_wins = False\n",
    "        elif robot_average >= player_average:\n",
    "            player_wins = False\n",
    "            robot_wins = True\n",
    "    \n",
    "    if player_wins is True and robot_wins is False:\n",
    "        print(\"Congratulations! You have won the game.\")\n",
    "    elif player_wins is False and robot_wins is True:\n",
    "        print(\"Sorry, better luck next time!\")\n",
    "    \n",
    "    return player_wins\n",
    "    return robot_wins\n",
    "\n",
    "#fix if player and robot has tie in Rule 2 > robot wins in Rule 3, player loses"
   ]
  },
  {
   "cell_type": "code",
   "execution_count": 12,
   "id": "13d05163",
   "metadata": {},
   "outputs": [
    {
     "name": "stdout",
     "output_type": "stream",
     "text": [
      "Congratulations! You have won the game.\n"
     ]
    },
    {
     "data": {
      "text/plain": [
       "True"
      ]
     },
     "execution_count": 12,
     "metadata": {},
     "output_type": "execute_result"
    }
   ],
   "source": [
    "# Testing Check Result function:\n",
    "\n",
    "player_cards = ['K of ♥', 'Q of ♦', 'J of ♦', '10 of ♦'] \n",
    "robot_cards = ['Q of ♥', 'K of ♦', '10 of ♣', 'J of ♠']\n",
    "suits = [\"♥\", \"♦\", \"♣\", \"♠\"]\n",
    "\n",
    "check_result(player_cards, robot_cards, suits)"
   ]
  },
  {
   "cell_type": "markdown",
   "id": "5fa34e7c",
   "metadata": {},
   "source": [
    "# Task 7. Play Game function"
   ]
  },
  {
   "cell_type": "code",
   "execution_count": 28,
   "id": "a6270cb0",
   "metadata": {},
   "outputs": [],
   "source": [
    "def play_game():\n",
    "    \n",
    "    player_cards = []\n",
    "    robot_cards = []\n",
    "    values = ['2', '3', '4', '5', '6', '7', '8', '9', '10', 'J', 'Q', 'K', 'A']\n",
    "    \n",
    "    # Display game menu\n",
    "    \n",
    "    game_menu()\n",
    "    \n",
    "    input_selection = int(input(\"Please enter your selection: \")\n",
    "\n",
    "    if input_selection.startswith(\"1\"):\n",
    "        split_input = input_selection.split()\n",
    "        if len(split_input) == 1:\n",
    "            print(\"Starting game...\")\n",
    "        elif len(split_input) == 2:\n",
    "            suit_type = split_input[1]\n",
    "            if suit_type in [\"1\", \"2\", \"3\"]:\n",
    "                print(\"Starting game with Deck\",suit_type, \"...\")\n",
    "            else:\n",
    "                print(\"Invalid input. Please enter a valid suit type as your second number, which is either '1', '2' or '3'.\")\n",
    "        else:\n",
    "            print(\"Invalid input. Please enter a valid selection.\")\n",
    "    elif input_selection == \"2\":\n",
    "        print(\"Picking a card...\")\n",
    "    elif input_selection == \"3\":\n",
    "        print(\"Shuffling deck...\")\n",
    "    elif input_selection == \"4\":\n",
    "        print(\"Showing your cards...\")\n",
    "    elif input_selection == \"5\":\n",
    "        print(\"Checking win or lose...\")\n",
    "    elif input_selection == \"6\":\n",
    "        print(\"Exiting game...\")\n",
    "    elif not input_selection.isnumeric():\n",
    "        print(\"Invalid input. Please enter a valid selection.\")\n",
    "    else:\n",
    "        print(\"Invalid input. Please enter a valid selection.\")"
   ]
  },
  {
   "cell_type": "code",
   "execution_count": 29,
   "id": "4b8486a7",
   "metadata": {},
   "outputs": [
    {
     "name": "stdout",
     "output_type": "stream",
     "text": [
      "Welcome to the Monash card game! Enter a number from the following game options below: \n",
      "1. start game\n",
      "2. pick a card\n",
      "3. shuffle deck\n",
      "4. show my cards\n",
      "5. check win or lose\n",
      "6. exit\n",
      "\n",
      "You may also choose one suit type from the following below: \n",
      "Deck 1 = ['♥', '♦', '♣', '♠']\n",
      "Deck 2 = ['😃', '😈', '😵', '🤢', '😨']\n",
      "Deck 3 = ['🤡', '👹', '👺', '👻', '👽', '👾', '🤖']\n",
      "\n",
      "If you are starting a game for the first time, you need to also select a deck. The first number would be your game option, and your second number would be your selected deck. For instance, '1 2' means that you are starting a game using Deck 2.\n",
      "Please enter your selection: 11111\n",
      "Starting game...\n"
     ]
    }
   ],
   "source": [
    "play_game()"
   ]
  }
 ],
 "metadata": {
  "kernelspec": {
   "display_name": "Python 3 (ipykernel)",
   "language": "python",
   "name": "python3"
  },
  "language_info": {
   "codemirror_mode": {
    "name": "ipython",
    "version": 3
   },
   "file_extension": ".py",
   "mimetype": "text/x-python",
   "name": "python",
   "nbconvert_exporter": "python",
   "pygments_lexer": "ipython3",
   "version": "3.9.13"
  }
 },
 "nbformat": 4,
 "nbformat_minor": 5
}
