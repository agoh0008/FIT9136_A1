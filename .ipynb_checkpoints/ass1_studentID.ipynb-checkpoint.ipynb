{
 "cells": [
  {
   "cell_type": "markdown",
   "id": "256b5280",
   "metadata": {},
   "source": [
    "# Task 1. Game menu function"
   ]
  },
  {
   "cell_type": "code",
   "execution_count": null,
   "id": "7e92a3ce",
   "metadata": {},
   "outputs": [],
   "source": [
    "def game_menu():\n",
    "    print(\"Welcome to the Monash card game! You have the following game options: \") \n",
    "    print(\"1. start game\")\n",
    "    print(\"2. pick a card\") \n",
    "    print(\"3. shuffle deck\") \n",
    "    print(\"4. show my cards\")\n",
    "    print(\"5. check win or lose\") \n",
    "    print(\"6. exit\")\n",
    "\n",
    "    print(\"\\nYou may also choose one suit type from the following below: \")\n",
    "    print(\"suits1 = ['♥', '♦', '♣', '♠']\")\n",
    "    print(\"suits2 = ['😃', '😈', '😵', '🤢', '😨']\")\n",
    "    print(\"suits3 = ['🤡', '👹', '👺', '👻', '👽', '👾', '🤖']\")\n",
    "\n",
    "    print(\"\\nIf you are starting a game for the first time, you need to also select a suit type. The first number would be your game option, and your second number would be your suit type. For instance, '1 2' means that you are starting a game using the suits2.\")\n",
    "\n",
    "    # Ensure that if user inputs \"start game\" function, the second variable has to be a valid suit type which is either '1', '2', or '3':\n",
    "    input_selection = input(\"Please enter your selection: \")\n",
    "    if input_selection.startswith(\"1\"):\n",
    "        split_input = input_selection.split()\n",
    "        if len(split_input) == 1:\n",
    "            print(\"Starting game...\")\n",
    "        elif len(split_input) == 2:\n",
    "            suit_type = split_input[1]\n",
    "            if suit_type in [\"1\", \"2\", \"3\"]:\n",
    "                print(\"Starting game with suits\",suit_type, \"...\")\n",
    "            else:\n",
    "                print(\"Invalid input. Please enter a valid suit type as your second number, which is either '1', '2' or '3'.\")\n",
    "        else:\n",
    "            print(\"Invalid input. Please enter a valid selection.\")\n",
    "    elif input_selection == \"2\":\n",
    "        print(\"Picking a card...\")\n",
    "    elif input_selection == \"3\":\n",
    "        print(\"Shuffling deck...\")\n",
    "    elif input_selection == \"4\":\n",
    "        print(\"Showing your cards...\")\n",
    "    elif input_selection == \"5\":\n",
    "        print(\"Checking win or lose...\")\n",
    "    elif input_selection == \"6\":\n",
    "        print(\"Exiting...\")\n",
    "    else:\n",
    "        print(\"Invalid input. Please enter a valid selection.\")"
   ]
  },
  {
   "cell_type": "code",
   "execution_count": null,
   "id": "c4c8e8db",
   "metadata": {},
   "outputs": [],
   "source": [
    "game_menu()"
   ]
  },
  {
   "cell_type": "markdown",
   "id": "ec6c0d3e",
   "metadata": {},
   "source": [
    "# Task 2. Create Deck function"
   ]
  },
  {
   "cell_type": "code",
   "execution_count": 14,
   "id": "230477aa",
   "metadata": {},
   "outputs": [],
   "source": [
    "def create_deck(suits, values, deck):\n",
    "    for suit_group in suits:\n",
    "        for suit_type in suit_group:\n",
    "            for value in values:\n",
    "                deck.append(f\"{value} of {suit_type}\")\n",
    "    print(deck)"
   ]
  },
  {
   "cell_type": "code",
   "execution_count": 18,
   "id": "ce9eab81",
   "metadata": {},
   "outputs": [
    {
     "name": "stdout",
     "output_type": "stream",
     "text": [
      "['2 of ♥', '3 of ♥', '4 of ♥', '5 of ♥', '6 of ♥', '7 of ♥', '8 of ♥', '9 of ♥', '10 of ♥', 'J of ♥', 'Q of ♥', 'K of ♥', 'A of ♥', '2 of ♦', '3 of ♦', '4 of ♦', '5 of ♦', '6 of ♦', '7 of ♦', '8 of ♦', '9 of ♦', '10 of ♦', 'J of ♦', 'Q of ♦', 'K of ♦', 'A of ♦', '2 of ♣', '3 of ♣', '4 of ♣', '5 of ♣', '6 of ♣', '7 of ♣', '8 of ♣', '9 of ♣', '10 of ♣', 'J of ♣', 'Q of ♣', 'K of ♣', 'A of ♣', '2 of ♠', '3 of ♠', '4 of ♠', '5 of ♠', '6 of ♠', '7 of ♠', '8 of ♠', '9 of ♠', '10 of ♠', 'J of ♠', 'Q of ♠', 'K of ♠', 'A of ♠', '2 of 😃', '3 of 😃', '4 of 😃', '5 of 😃', '6 of 😃', '7 of 😃', '8 of 😃', '9 of 😃', '10 of 😃', 'J of 😃', 'Q of 😃', 'K of 😃', 'A of 😃', '2 of 😈', '3 of 😈', '4 of 😈', '5 of 😈', '6 of 😈', '7 of 😈', '8 of 😈', '9 of 😈', '10 of 😈', 'J of 😈', 'Q of 😈', 'K of 😈', 'A of 😈', '2 of 😵', '3 of 😵', '4 of 😵', '5 of 😵', '6 of 😵', '7 of 😵', '8 of 😵', '9 of 😵', '10 of 😵', 'J of 😵', 'Q of 😵', 'K of 😵', 'A of 😵', '2 of 🤢', '3 of 🤢', '4 of 🤢', '5 of 🤢', '6 of 🤢', '7 of 🤢', '8 of 🤢', '9 of 🤢', '10 of 🤢', 'J of 🤢', 'Q of 🤢', 'K of 🤢', 'A of 🤢', '2 of 😨', '3 of 😨', '4 of 😨', '5 of 😨', '6 of 😨', '7 of 😨', '8 of 😨', '9 of 😨', '10 of 😨', 'J of 😨', 'Q of 😨', 'K of 😨', 'A of 😨', '2 of 🤡', '3 of 🤡', '4 of 🤡', '5 of 🤡', '6 of 🤡', '7 of 🤡', '8 of 🤡', '9 of 🤡', '10 of 🤡', 'J of 🤡', 'Q of 🤡', 'K of 🤡', 'A of 🤡', '2 of 👹', '3 of 👹', '4 of 👹', '5 of 👹', '6 of 👹', '7 of 👹', '8 of 👹', '9 of 👹', '10 of 👹', 'J of 👹', 'Q of 👹', 'K of 👹', 'A of 👹', '2 of 👺', '3 of 👺', '4 of 👺', '5 of 👺', '6 of 👺', '7 of 👺', '8 of 👺', '9 of 👺', '10 of 👺', 'J of 👺', 'Q of 👺', 'K of 👺', 'A of 👺', '2 of 👻', '3 of 👻', '4 of 👻', '5 of 👻', '6 of 👻', '7 of 👻', '8 of 👻', '9 of 👻', '10 of 👻', 'J of 👻', 'Q of 👻', 'K of 👻', 'A of 👻', '2 of 👽', '3 of 👽', '4 of 👽', '5 of 👽', '6 of 👽', '7 of 👽', '8 of 👽', '9 of 👽', '10 of 👽', 'J of 👽', 'Q of 👽', 'K of 👽', 'A of 👽', '2 of 👾', '3 of 👾', '4 of 👾', '5 of 👾', '6 of 👾', '7 of 👾', '8 of 👾', '9 of 👾', '10 of 👾', 'J of 👾', 'Q of 👾', 'K of 👾', 'A of 👾', '2 of 🤖', '3 of 🤖', '4 of 🤖', '5 of 🤖', '6 of 🤖', '7 of 🤖', '8 of 🤖', '9 of 🤖', '10 of 🤖', 'J of 🤖', 'Q of 🤖', 'K of 🤖', 'A of 🤖']\n"
     ]
    }
   ],
   "source": [
    "#Testing Create Deck function: \n",
    "\n",
    "suits1 = ['♥', '♦', '♣', '♠']\n",
    "suits2 = ['😃', '😈', '😵', '🤢', '😨']\n",
    "suits3 = ['🤡', '👹', '👺', '👻', '👽', '👾', '🤖']\n",
    "suits = [suits1, suits2, suits3]\n",
    "\n",
    "values = [\"2\", \"3\", \"4\", \"5\", \"6\", \"7\", \"8\", \"9\", \"10\", \"J\", \"Q\", \"K\", \"A\"]\n",
    "\n",
    "deck = []\n",
    "\n",
    "create_deck(suits, values, deck)"
   ]
  },
  {
   "cell_type": "markdown",
   "id": "77ce0085",
   "metadata": {},
   "source": [
    "# Task 3. Shuffle Deck function"
   ]
  },
  {
   "cell_type": "code",
   "execution_count": 1,
   "id": "e14c1569",
   "metadata": {},
   "outputs": [],
   "source": [
    "import random\n",
    "\n",
    "def shuffle_deck(deck, suits):\n",
    "    values = [\"2\", \"3\", \"4\", \"5\", \"6\", \"7\", \"8\", \"9\", \"10\", \"J\", \"Q\", \"K\", \"A\"]\n",
    "    \n",
    "    for x in range(len(suits)):\n",
    "        for suit in suits[x]:\n",
    "            for value in values:\n",
    "                deck[x].append(f\"{value} of {suit}\")\n",
    "    \n",
    "        random.shuffle(deck[x])\n",
    "        n = len(deck[x])\n",
    "        \n",
    "        # Find the index of the specific cards in the shuffled deck\n",
    "        first_suit = suits[x][0]\n",
    "        index_firstcard = deck[x].index(\"A of \" + first_suit)\n",
    "        second_suit = suits[x][1]\n",
    "        index_middlecard = deck[x].index(\"Q of \"+ second_suit)\n",
    "        last_suit = suits[x][-1]\n",
    "        index_lastcard = deck[x].index(\"K of \"+ last_suit)\n",
    "\n",
    "        # If the specific card is not at the top of the deck, swap it with the intended position:\n",
    "        if index_firstcard != 0:\n",
    "            deck[x][0], deck[x][index_firstcard] = deck[x][index_firstcard], deck[x][0]\n",
    "\n",
    "        if index_middlecard != ((n+1)/2):\n",
    "            deck[x][round((n+1)/2)], deck[x][index_middlecard] = deck[x][index_middlecard], deck[x][round((n+1)/2)]\n",
    "\n",
    "        if index_lastcard != -1:\n",
    "            deck[x][-1], deck[x][index_lastcard] = deck[x][index_lastcard], deck[x][-1]\n",
    "\n",
    "    print(deck)"
   ]
  },
  {
   "cell_type": "code",
   "execution_count": 4,
   "id": "69f7d131",
   "metadata": {},
   "outputs": [
    {
     "name": "stdout",
     "output_type": "stream",
     "text": [
      "[['A of ♥', '3 of ♥', 'Q of ♣', '4 of ♠', '4 of ♦', '7 of ♥', '7 of ♦', '10 of ♣', 'J of ♦', '6 of ♦', '8 of ♥', '3 of ♦', '4 of ♥', '10 of ♦', '2 of ♠', 'Q of ♠', '9 of ♠', '8 of ♠', '9 of ♥', '2 of ♥', '5 of ♦', '6 of ♥', '5 of ♠', '5 of ♥', '7 of ♣', '6 of ♠', 'Q of ♦', '8 of ♣', 'K of ♥', '8 of ♦', '9 of ♣', '7 of ♠', 'J of ♣', 'K of ♣', 'K of ♦', '10 of ♠', 'A of ♦', 'A of ♣', '6 of ♣', '2 of ♣', '3 of ♣', '3 of ♠', '5 of ♣', 'J of ♠', '2 of ♦', 'Q of ♥', '4 of ♣', 'A of ♠', 'J of ♥', '9 of ♦', '10 of ♥', 'K of ♠'], ['4 of 🤢', 'J of 😈', '6 of 😈', '10 of 🤢', 'A of 😵', '6 of 😃', 'J of 😵', '7 of 🤢', '9 of 🤢', 'K of 😃', 'K of 🤢', '2 of 😨', 'K of 😵', '5 of 😃', 'K of 😨', '4 of 😵', 'Q of 🤢', '3 of 😨', '3 of 🤢', 'J of 🤢', '10 of 😨', 'K of 😈', '7 of 😵', '8 of 😵', '9 of 😨', '8 of 😨', '3 of 😵', '5 of 😈', '2 of 😈', '9 of 😃', 'A of 🤢', '5 of 🤢', '3 of 😃', 'Q of 😈', 'Q of 😨', '10 of 😃', 'Q of 😵', '10 of 😵', '4 of 😃', '5 of 😨', '8 of 😈', '9 of 😈', '2 of 🤢', '6 of 😵', 'J of 😃', '2 of 😵', '8 of 😃', '5 of 😵', '3 of 😈', '7 of 😃', '4 of 😨', '8 of 🤢', '9 of 😵', '7 of 😈', 'A of 😈', 'J of 😨', '6 of 😨', '10 of 😈', '6 of 🤢', '2 of 😃', '7 of 😨', '4 of 😈', 'A of 😨', 'Q of 😃', 'A of 😃'], ['A of 🤡', 'Q of 👽', '5 of 👾', '8 of 👺', '8 of 👽', '4 of 👻', 'A of 👹', 'K of 🤡', 'A of 👻', 'A of 👺', 'A of 👾', '6 of 👺', '10 of 👻', '9 of 👺', '9 of 👽', '3 of 🤖', '10 of 👾', '7 of 👺', '5 of 👻', '3 of 🤡', 'K of 👹', '7 of 👹', '2 of 🤡', '3 of 👹', '4 of 🤖', 'A of 👽', '6 of 👻', '2 of 👺', '6 of 🤖', 'Q of 👻', '9 of 👻', 'J of 👹', 'K of 👺', '2 of 👻', '6 of 👹', '3 of 👽', 'J of 🤡', '2 of 🤖', 'J of 👺', 'K of 👽', 'Q of 👾', '9 of 🤡', '7 of 🤡', '3 of 👻', '7 of 👽', '10 of 🤡', 'Q of 👹', '10 of 👺', '6 of 👾', '3 of 👺', '2 of 👾', 'J of 👾', '5 of 👽', 'Q of 👺', '5 of 🤡', '10 of 👽', 'J of 🤖', '9 of 🤖', 'A of 🤖', 'J of 👻', '2 of 👹', '5 of 👹', '9 of 👾', '7 of 👻', '8 of 👻', '3 of 👾', '7 of 🤖', '6 of 🤡', '4 of 👺', '10 of 🤖', 'K of 👾', '10 of 👹', '8 of 👾', 'Q of 🤡', '9 of 👹', '4 of 👽', 'J of 👽', '6 of 👽', '7 of 👾', '8 of 👹', '4 of 👾', '5 of 👺', 'Q of 🤖', '8 of 🤖', '4 of 👹', '8 of 🤡', '2 of 👽', 'K of 👻', '5 of 🤖', '4 of 🤡', 'K of 🤖']]\n"
     ]
    }
   ],
   "source": [
    "#Testing Shuffle Deck function: \n",
    "suits1 = ['♥', '♦', '♣', '♠']\n",
    "suits2 = ['😃', '😈', '😵', '🤢', '😨']\n",
    "suits3 = ['🤡', '👹', '👺', '👻', '👽', '👾', '🤖']\n",
    "suits = [suits1, suits2, suits3]\n",
    "\n",
    "deck = [[] for _ in range(len(suits))]\n",
    "\n",
    "shuffle_deck(deck, suits)"
   ]
  },
  {
   "cell_type": "markdown",
   "id": "1ba567ed",
   "metadata": {},
   "source": [
    "# Task 4. Pick Card function"
   ]
  },
  {
   "cell_type": "code",
   "execution_count": 1,
   "id": "e95cb03c",
   "metadata": {},
   "outputs": [],
   "source": [
    "import random\n",
    "\n",
    "def pick_card(deck):\n",
    "    selected_index = random.randint(0, len(deck)-1)\n",
    "    selected_card = deck[selected_index]\n",
    "    deck = deck[:selected_index] + deck[selected_index+1:]\n",
    "    return selected_card, deck      "
   ]
  },
  {
   "cell_type": "code",
   "execution_count": 6,
   "id": "345bd2e5",
   "metadata": {},
   "outputs": [
    {
     "name": "stdout",
     "output_type": "stream",
     "text": [
      "Picked card: 7 of ♣\n",
      "Remaining deck: ['2 of ♥', '3 of ♥', '4 of ♥', '5 of ♥', '6 of ♥', '7 of ♥', '8 of ♥', '9 of ♥', '10 of ♥', 'J of ♥', 'Q of ♥', 'K of ♥', 'A of ♥', '2 of ♦', '3 of ♦', '4 of ♦', '5 of ♦', '6 of ♦', '7 of ♦', '8 of ♦', '9 of ♦', '10 of ♦', 'J of ♦', 'Q of ♦', 'K of ♦', 'A of ♦', '2 of ♣', '3 of ♣', '4 of ♣', '5 of ♣', '6 of ♣', '8 of ♣', '9 of ♣', '10 of ♣', 'J of ♣', 'Q of ♣', 'K of ♣', 'A of ♣', '2 of ♠', '3 of ♠', '4 of ♠', '5 of ♠', '6 of ♠', '7 of ♠', '8 of ♠', '9 of ♠', '10 of ♠', 'J of ♠', 'Q of ♠', 'K of ♠', 'A of ♠']\n"
     ]
    }
   ],
   "source": [
    "#Testing Pick Card function: \n",
    "deck = ['2 of ♥', '3 of ♥', '4 of ♥', '5 of ♥', '6 of ♥', '7 of ♥', '8 of ♥', '9 of ♥', '10 of ♥', 'J of ♥', 'Q of ♥', 'K of ♥', 'A of ♥', '2 of ♦', '3 of ♦', '4 of ♦', '5 of ♦', '6 of ♦', '7 of ♦', '8 of ♦', '9 of ♦', '10 of ♦', 'J of ♦', 'Q of ♦', 'K of ♦', 'A of ♦', '2 of ♣', '3 of ♣', '4 of ♣', '5 of ♣', '6 of ♣', '7 of ♣', '8 of ♣', '9 of ♣', '10 of ♣', 'J of ♣', 'Q of ♣', 'K of ♣', 'A of ♣', '2 of ♠', '3 of ♠', '4 of ♠', '5 of ♠', '6 of ♠', '7 of ♠', '8 of ♠', '9 of ♠', '10 of ♠', 'J of ♠', 'Q of ♠', 'K of ♠', 'A of ♠']\n",
    "\n",
    "selected_card, deck = pick_card(deck)\n",
    "\n",
    "print(\"Picked card:\", selected_card)\n",
    "print(\"Remaining deck:\", deck)"
   ]
  },
  {
   "cell_type": "markdown",
   "id": "346092bb",
   "metadata": {},
   "source": [
    "# Task 5. Show Cards function\n"
   ]
  },
  {
   "cell_type": "code",
   "execution_count": 5,
   "id": "acb0fc77",
   "metadata": {},
   "outputs": [],
   "source": [
    "def show_cards(player_cards):\n",
    "    print(\"Your total cards are: \")\n",
    "    for card in player_cards:\n",
    "        print(card)"
   ]
  },
  {
   "cell_type": "code",
   "execution_count": 6,
   "id": "08ad5b6f",
   "metadata": {},
   "outputs": [
    {
     "name": "stdout",
     "output_type": "stream",
     "text": [
      "Your total cards are: \n",
      "2 of ♦\n",
      "6 of ♥\n",
      "4 of ♣\n",
      "10 of ♥\n",
      "3 of ♠\n"
     ]
    }
   ],
   "source": [
    "#Testing Show Cards function:\n",
    "\n",
    "player_cards = ['2 of ♦', '6 of ♥', '4 of ♣', '10 of ♥', '3 of ♠']\n",
    "\n",
    "show_cards(player_cards)"
   ]
  },
  {
   "cell_type": "markdown",
   "id": "3b2804c1",
   "metadata": {},
   "source": [
    "# Task 6. Check Result function\n"
   ]
  },
  {
   "cell_type": "code",
   "execution_count": null,
   "id": "cdc3f901",
   "metadata": {},
   "outputs": [],
   "source": []
  },
  {
   "cell_type": "markdown",
   "id": "5fa34e7c",
   "metadata": {},
   "source": [
    "# Task 7. Play Game function"
   ]
  },
  {
   "cell_type": "code",
   "execution_count": null,
   "id": "a6270cb0",
   "metadata": {},
   "outputs": [],
   "source": []
  }
 ],
 "metadata": {
  "kernelspec": {
   "display_name": "Python 3 (ipykernel)",
   "language": "python",
   "name": "python3"
  },
  "language_info": {
   "codemirror_mode": {
    "name": "ipython",
    "version": 3
   },
   "file_extension": ".py",
   "mimetype": "text/x-python",
   "name": "python",
   "nbconvert_exporter": "python",
   "pygments_lexer": "ipython3",
   "version": "3.9.13"
  }
 },
 "nbformat": 4,
 "nbformat_minor": 5
}
